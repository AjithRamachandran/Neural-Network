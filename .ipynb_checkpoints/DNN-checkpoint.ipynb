{
 "cells": [
  {
   "cell_type": "code",
   "execution_count": 1,
   "metadata": {},
   "outputs": [],
   "source": [
    "import numpy as np"
   ]
  },
  {
   "cell_type": "code",
   "execution_count": 2,
   "metadata": {},
   "outputs": [],
   "source": [
    "def sigmoid(x):\n",
    "    return 1/(1+np.exp(-x))"
   ]
  },
  {
   "cell_type": "code",
   "execution_count": 3,
   "metadata": {},
   "outputs": [],
   "source": [
    "def tanh(x):\n",
    "    return (np.exp(x)-np.exp(-x))/(np.exp(x)+np.exp(-x))"
   ]
  },
  {
   "cell_type": "code",
   "execution_count": 4,
   "metadata": {},
   "outputs": [],
   "source": [
    "def initialize(n_x, n_h, n_y):\n",
    "    np.random.seed(3)\n",
    "    \n",
    "    w1 = np.random.randn(n_h, n_x)\n",
    "    b1 = np.zeros((n_h, 1))\n",
    "    w2 = np.random.randn(n_y, n_h)\n",
    "    b2 = np.zeros((n_y, 1))\n",
    "    \n",
    "    return w1, w2, b1, b2"
   ]
  },
  {
   "cell_type": "code",
   "execution_count": 5,
   "metadata": {},
   "outputs": [],
   "source": [
    "def propogate(w1, w2, b1, b2, X, y):\n",
    "    m = X.shape[1]\n",
    "    \n",
    "    #Forward Propagation\n",
    "    z1 = np.dot(w1, X)\n",
    "    a1 = sigmoid(z1 + b1)\n",
    "    z2 = np.dot(w2, a1)\n",
    "    a2 = sigmoid(z2 + b2)\n",
    "    cost = -np.sum(np.multiply(np.log(a2), y) + np.multiply((1 - y), np.log(1 - a2)))/m\n",
    "    \n",
    "    #Backward Propagation\n",
    "    dz2 = a2-y\n",
    "    dw2 = np.dot(dz2, a1.T)/m\n",
    "    db2 = np.sum(dz2, axis=1, keepdims=True)/m\n",
    "    dz1 = np.multiply(np.dot(w2.T, dz2), 1-np.power(a1, 2))\n",
    "    dw1 = np.dot(dz1, X.T)/m\n",
    "    db1 = np.sum(dz1, axis=1, keepdims=True)/m\n",
    "    \n",
    "    assert(dw1.shape == w1.shape)\n",
    "    assert(dw2.shape == w2.shape)\n",
    "    \n",
    "    cost = np.squeeze(cost)\n",
    "    \n",
    "    grads = {\"dw1\": dw1,\n",
    "             \"db1\": db1,\n",
    "             \"dw2\": dw2,\n",
    "             \"db2\": db2}\n",
    "    return grads, cost"
   ]
  },
  {
   "cell_type": "code",
   "execution_count": 6,
   "metadata": {},
   "outputs": [],
   "source": [
    "def optimize(w1, w2, b1, b2, X ,y, epoch=1000, learning_rate=0.001):\n",
    "    for i in range(epoch):\n",
    "        grads, cost = propogate(w1, w2, b1, b2, X, y)\n",
    "        dw1 = grads[\"dw1\"]\n",
    "        db1 = grads[\"db1\"]\n",
    "        dw2 = grads[\"dw2\"]\n",
    "        db2 = grads[\"db2\"]\n",
    "        \n",
    "        w1 = w1 - learning_rate*dw1\n",
    "        b1 = b1 - learning_rate*db1\n",
    "        w2 = w2 - learning_rate*dw2\n",
    "        b2 = b2 - learning_rate*db2\n",
    "        \n",
    "        print(\"After \", i+1, \"epoch, loss:\", cost)\n",
    "        \n",
    "    params = {\"w1\": w1,\n",
    "              \"b1\": b1,\n",
    "              \"w2\": w2,\n",
    "              \"b2\": b2}\n",
    "    \n",
    "    return params"
   ]
  },
  {
   "cell_type": "code",
   "execution_count": 7,
   "metadata": {},
   "outputs": [],
   "source": [
    "def predict(X):\n",
    "    a1 = np.dot(params['w1'], X) + params['b1']\n",
    "    a2 = np.dot(params['w2'], a1) + params['b2']\n",
    "    \n",
    "    a2 = np.squeeze(a2)\n",
    "    \n",
    "    if(a2>0.5):\n",
    "        return 1\n",
    "    else:\n",
    "        return 0"
   ]
  },
  {
   "cell_type": "code",
   "execution_count": 8,
   "metadata": {},
   "outputs": [
    {
     "name": "stdout",
     "output_type": "stream",
     "text": [
      "After  1 epoch, loss: 0.7214251256056029\n",
      "After  2 epoch, loss: 0.719119854941671\n",
      "After  3 epoch, loss: 0.7148150488059678\n",
      "After  4 epoch, loss: 0.708750188925258\n",
      "After  5 epoch, loss: 0.703215946910183\n"
     ]
    },
    {
     "data": {
      "text/plain": [
       "1"
      ]
     },
     "execution_count": 8,
     "metadata": {},
     "output_type": "execute_result"
    }
   ],
   "source": [
    "X = np.array([[1,2,1,1,0,1], [2,3,3,7,2,3], [3,4,5,3,4,9]])\n",
    "y = np.array([[0,0,1,1,0,1]])\n",
    "\n",
    "w1, w2, b1, b2 = initialize(X.shape[0], 8, y.shape[0])\n",
    "params = optimize(w1, w2, b1, b2, X ,y, epoch=5, learning_rate=0.4)\n",
    "predict(np.array([[1],[4],[5]])) "
   ]
  },
  {
   "cell_type": "code",
   "execution_count": null,
   "metadata": {},
   "outputs": [],
   "source": []
  }
 ],
 "metadata": {
  "kernelspec": {
   "display_name": "Python 3",
   "language": "python",
   "name": "python3"
  },
  "language_info": {
   "codemirror_mode": {
    "name": "ipython",
    "version": 3
   },
   "file_extension": ".py",
   "mimetype": "text/x-python",
   "name": "python",
   "nbconvert_exporter": "python",
   "pygments_lexer": "ipython3",
   "version": "3.6.7"
  }
 },
 "nbformat": 4,
 "nbformat_minor": 2
}
